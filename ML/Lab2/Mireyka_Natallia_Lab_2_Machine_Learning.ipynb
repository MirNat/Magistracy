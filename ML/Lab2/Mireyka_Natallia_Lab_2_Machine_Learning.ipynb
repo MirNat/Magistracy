{
 "cells": [
  {
   "cell_type": "code",
   "execution_count": 1,
   "metadata": {
    "collapsed": true
   },
   "outputs": [],
   "source": [
    "# Домашнее задание №2: bonus по курсу \"Машинное обучение\"\n",
    "# Выполнила Мирейко Наталья\n",
    "\n",
    "import sys\n",
    "import random\n",
    "import numpy as np\n",
    "import matplotlib.pyplot as plt"
   ]
  },
  {
   "cell_type": "code",
   "execution_count": 2,
   "metadata": {
    "collapsed": true
   },
   "outputs": [],
   "source": [
    "min_x, max_x, min_y, max_y = -10, 1, -10, 1\n",
    "\n",
    "def generate_training_set(k):\n",
    "    N = P = k\n",
    "    training_set = []\n",
    "    \n",
    "    # Чтобы алгоритм удовлетворял ограничению \"вероятность того, что прямая с угловым наклоном k окажется разделяющей \n",
    "    # для полученной выборки должна не зависеть от k\" сгенерируем разделяющую прямую при помощи случайного выбора \n",
    "    # двух точек в прямоугольнике. Потом относительно этой прямой раскидаем произвольно с одной стороны N точек, а с \n",
    "    # другой P (точки генерируем за  O(N+P))\n",
    "    \n",
    "    x_random1 = random.uniform(min_x, max_x)\n",
    "    x_random2 = random.uniform(min_x, max_x)    \n",
    "    \n",
    "    # Будем использовать уравнение прямой (x - x_rand1)/(x_rand1-x_rand2) = (y - ymin)/(ymin - ymax)\n",
    "    \n",
    "    # Генерация положительного класса\n",
    "    for x in range(0, P, 1):\n",
    "        x_coord = random.uniform(min_x, max(x_random1, x_random2))       \n",
    "        y_for_line = min_y + (min_y - max_y)*(x_coord - x_random1)/(x_random1 - x_random2)\n",
    "        if x_coord < min(x_random1, x_random2):\n",
    "            y_coord = random.uniform(min_y, max_y)\n",
    "        elif x_random1 < x_random2:\n",
    "            y_coord = random.uniform(y_for_line, max_y)\n",
    "        else:\n",
    "            y_coord = random.uniform(min_y, y_for_line)\n",
    "        training_set.append((np.array([1, x_coord, y_coord]), 1))\n",
    "        \n",
    "    # Генерация отрицательного класса\n",
    "    for x in range(0, N, 1):\n",
    "        x_coord = random.uniform(min(x_random1, x_random2), max_x)\n",
    "        y_for_line = min_y + (min_y - max_y)*(x_coord - x_random1)/(x_random1 - x_random2)\n",
    "        if x_coord > max(x_random1, x_random2):\n",
    "            y_coord = random.uniform(min_y, max_y)\n",
    "        elif x_random1 < x_random2:\n",
    "            y_coord = random.uniform(min_y, y_for_line)\n",
    "        else:\n",
    "            y_coord = random.uniform(y_for_line, max_y)\n",
    "        training_set.append((np.array([1, x_coord, y_coord]), -1))\n",
    "        \n",
    "    return training_set"
   ]
  },
  {
   "cell_type": "code",
   "execution_count": 3,
   "metadata": {
    "collapsed": true
   },
   "outputs": [],
   "source": [
    "# Aлгоритм Batch perceptron для неоднородной модели\n",
    "def batch_perceptron(training_set):\n",
    "    w = np.array([0, 0, 0])\n",
    "    iteration = 0\n",
    "    while True:\n",
    "        improvement_possible = False\n",
    "        for index, training_element in enumerate(training_set):\n",
    "            if (training_element[1] * sign(w.dot(training_element[0]))) <= 0:            \n",
    "                w = w + training_element[1] * training_element[0]\n",
    "                improvement_possible = True\n",
    "                iteration += 1 \n",
    "                break\n",
    "        if not improvement_possible:\n",
    "            min_indent = sys.maxint\n",
    "            for index, training_element in enumerate(training_set):\n",
    "                min_indent = min(w.dot(training_element[0])*training_element[1], min_indent)\n",
    "            # Возвращаем параметры модели и минимальный отступ + номер итерации для построения графика\n",
    "            return w, min_indent, iteration"
   ]
  },
  {
   "cell_type": "code",
   "execution_count": 4,
   "metadata": {},
   "outputs": [
    {
     "data": {
      "image/png": "[encoded data removed]",
      "text/plain": [
       "<matplotlib.figure.Figure at 0x7f2e56462890>"
      ]
     },
     "metadata": {},
     "output_type": "display_data"
    }
   ],
   "source": [
    "plt.xlabel('k')\n",
    "plt.ylabel('average iteration needed')\n",
    "\n",
    "for k in range(1, 15, 1):\n",
    "    iterations_sum = 0\n",
    "    attempts_count = 100\n",
    "    for i in range(0, attempts_count, 1):\n",
    "        iterations_sum += batch_perceptron(generate_training_set(k))[2]\n",
    "    #Наносим точку на график\n",
    "    plt.plot(k, iterations_sum / attempts_count, 'ro')\n",
    "plt.show()"
   ]
  }
 ],
 "metadata": {
  "kernelspec": {
   "display_name": "Python 3",
   "language": "python",
   "name": "python3"
  },
  "language_info": {
   "codemirror_mode": {
    "name": "ipython",
    "version": 3
   },
   "file_extension": ".py",
   "mimetype": "text/x-python",
   "name": "python",
   "nbconvert_exporter": "python",
   "pygments_lexer": "ipython3",
   "version": "3.6.1"
  }
 },
 "nbformat": 4,
 "nbformat_minor": 1
}
