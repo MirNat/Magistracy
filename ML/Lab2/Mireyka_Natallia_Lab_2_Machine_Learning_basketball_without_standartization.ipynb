{
 "cells": [
  {
   "cell_type": "code",
   "execution_count": 1,
   "metadata": {
    "collapsed": true
   },
   "outputs": [],
   "source": [
    "# Домашнее задание №2: bonus по курсу \"Машинное обучение\"\n",
    "# Выполнила Мирейко Наталья\n",
    "\n",
    "% matplotlib inline\n",
    "\n",
    "import csv\n",
    "import numpy as np\n",
    "from numpy.linalg import inv\n",
    "from __future__ import division\n",
    "import matplotlib.pyplot as plt\n",
    "\n",
    "np.set_printoptions(suppress=True)\n",
    "\n",
    "data_x = []\n",
    "data_y = []\n",
    "with open('basketball.csv', 'rb') as csv_file:\n",
    "    basketball_reader = csv.reader(csv_file, delimiter=',', quotechar='|')\n",
    "    next(basketball_reader, None)\n",
    "    for row in basketball_reader:\n",
    "        data_x.append([row[0], row[1], row[2], row[3]])\n",
    "        data_y.append([row[4]])\n",
    "\n",
    "X = np.array(data_x, dtype=float).transpose()\n",
    "Y = np.array(data_y, dtype=float)\n"
   ]
  },
  {
   "cell_type": "code",
   "execution_count": 2,
   "metadata": {
    "collapsed": true
   },
   "outputs": [],
   "source": [
    "def calculate_mse(X, Y, W):\n",
    "    sum = 0\n",
    "    for index, x in enumerate(X.transpose()):\n",
    "        sum += pow(((x).dot(W) - (Y[index][0])).item(), 2)\n",
    "    return sum / Y.shape[0]\n"
   ]
  },
  {
   "cell_type": "code",
   "execution_count": 3,
   "metadata": {
    "collapsed": true
   },
   "outputs": [],
   "source": [
    "def ridge_regression(X, Y, parameter):\n",
    "    return inv(X.dot(X.transpose()) + (parameter*np.identity(X.shape[0]))).dot(X).dot(Y)\n"
   ]
  },
  {
   "cell_type": "code",
   "execution_count": 4,
   "metadata": {},
   "outputs": [
    {
     "data": {
      "image/png": "[encoded data removed]",
      "text/plain": [
       "<matplotlib.figure.Figure at 0x7f1a4834f150>"
      ]
     },
     "metadata": {},
     "output_type": "display_data"
    }
   ],
   "source": [
    "plt.xlabel('parameter')\n",
    "plt.ylabel('MSE')\n",
    "\n",
    "for parameter in range(0, 100, 1):\n",
    "    plt.plot(parameter/100, calculate_mse(X, Y, ridge_regression(X, Y, parameter)), 'ro')    \n",
    "plt.show()"
   ]
  }
 ],
 "metadata": {
  "kernelspec": {
   "display_name": "Python 3",
   "language": "python",
   "name": "python3"
  },
  "language_info": {
   "codemirror_mode": {
    "name": "ipython",
    "version": 3
   },
   "file_extension": ".py",
   "mimetype": "text/x-python",
   "name": "python",
   "nbconvert_exporter": "python",
   "pygments_lexer": "ipython3",
   "version": "3.6.1"
  }
 },
 "nbformat": 4,
 "nbformat_minor": 1
}
