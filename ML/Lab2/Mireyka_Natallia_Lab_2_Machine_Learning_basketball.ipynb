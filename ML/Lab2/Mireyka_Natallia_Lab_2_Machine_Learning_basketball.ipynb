{
 "cells": [
  {
   "cell_type": "code",
   "execution_count": 1,
   "metadata": {
    "collapsed": true
   },
   "outputs": [],
   "source": [
    "# Домашнее задание №2: bonus по курсу \"Машинное обучение\"\n",
    "# Выполнила Мирейко Наталья\n",
    "% matplotlib inline\n",
    "\n",
    "import csv\n",
    "import numpy as np\n",
    "from numpy.linalg import inv\n",
    "from __future__ import division\n",
    "import matplotlib.pyplot as plt\n",
    "\n",
    "np.set_printoptions(suppress=True)\n",
    "\n",
    "data_x = []\n",
    "data_y = []\n",
    "with open('basketball.csv', 'rb') as csv_file:\n",
    "    basketball_reader = csv.reader(csv_file, delimiter=',', quotechar='|')\n",
    "    next(basketball_reader, None)\n",
    "    for row in basketball_reader:\n",
    "        data_x.append([row[0], row[1], row[2], row[3]])\n",
    "        data_y.append([row[4]])\n",
    "\n",
    "X = np.array(data_x, dtype=float).transpose()\n",
    "Y = np.array(data_y, dtype=float)\n",
    "\n",
    "# Стандартизация данных\n",
    "\n",
    "# Это запоминаем, чтобы была возможность восстановить реальные значения\n",
    "x_mean = X.mean(axis=1)\n",
    "x_std = np.std(X, axis=1)\n",
    "y_mean = np.mean(Y)\n",
    "y_std = np.std(Y)\n",
    "X = (X - np.mean(X, axis=1)[:, None]) / np.std(X, axis=1)[:, None]\n",
    "Y = (Y - np.mean(Y)) / np.std(Y)"
   ]
  },
  {
   "cell_type": "code",
   "execution_count": 2,
   "metadata": {},
   "outputs": [],
   "source": [
    "def ridge_regression(X, Y, parameter):\n",
    "    return inv(X.dot(X.transpose()) + (parameter*np.identity(X.shape[0]))).dot(X).dot(Y)"
   ]
  },
  {
   "cell_type": "code",
   "execution_count": 3,
   "metadata": {
    "collapsed": true
   },
   "outputs": [],
   "source": [
    "def calculate_mse(X, Y, W):\n",
    "    sum = 0\n",
    "    for index, x in enumerate(X.transpose()):\n",
    "        sum += pow(((x * x_std + x_mean).dot(W) - (Y[index][0] * y_std + y_mean)).item(), 2)\n",
    "    return sum / Y.shape[0]"
   ]
  },
  {
   "cell_type": "code",
   "execution_count": 3,
   "metadata": {},
   "outputs": [
    {
     "data": {
      "image/png": "[encoded data removed]",
      "text/plain": [
       "<matplotlib.figure.Figure at 0x7f702e706e90>"
      ]
     },
     "metadata": {},
     "output_type": "display_data"
    }
   ],
   "source": [
    "plt.xlabel('parameter')\n",
    "plt.ylabel('MSE')\n",
    "\n",
    "for parameter in xrange(0, 100, 1):\n",
    "    plt.plot(parameter/100, calculate_mse(X, Y, ridge_regression(X, Y, parameter)), 'ro')    \n",
    "plt.show()"
   ]
  },
  {
   "cell_type": "code",
   "execution_count": 5,
   "metadata": {},
   "outputs": [
    {
     "name": "stdout",
     "output_type": "stream",
     "text": [
      "Error of alghoritm: 4.94279496485\n"
     ]
    }
   ],
   "source": [
    "# Используем алгоритм, который описан в https://en.wikipedia.org/wiki/Least_absolute_deviations\n",
    "# То есть строим w = w0 + w1*x1+ .. + wm*xm\n",
    "\n",
    "from scipy.optimize import linprog\n",
    "\n",
    "training_set_size = X.transpose().__len__()\n",
    "c = [0] * 5 + [1] * training_set_size\n",
    "A = []\n",
    "\n",
    "for index, x in enumerate(X.transpose()):\n",
    "    a = np.empty(training_set_size)\n",
    "    a.fill(0)\n",
    "    a[index] = -1\n",
    "    A.append(np.append([-1], (-1 * x)).tolist() + a.tolist())\n",
    "\n",
    "for index, x in enumerate(X.transpose()):\n",
    "    a = np.empty(training_set_size)\n",
    "    a.fill(0)\n",
    "    a[index] = -1\n",
    "    A.append(np.append([1], x).tolist() + a.tolist())\n",
    "\n",
    "b = (-1 * Y).tolist() + Y.tolist()\n",
    "\n",
    "bounds = []\n",
    "for x in range(5):\n",
    "    bounds.append((None, None))\n",
    "for x in range(training_set_size):\n",
    "    bounds.append((0, None))\n",
    "\n",
    "res = linprog(c, A_ub=A, b_ub=b, bounds=bounds,\n",
    "              options={'disp': False, 'bland': False, 'tol': 1e-12, 'maxiter': 10000})\n",
    "error = 0\n",
    "\n",
    "for index, x in enumerate(X.transpose()):\n",
    "    error += abs((res.x[0] + (x * x_std + x_mean).dot(res.x[1:5])) - (Y[index] * y_std + y_mean).item())\n",
    "print \"Ошибка алгоритма: \" + str(error / training_set_size)"
   ]
  }
 ],
 "metadata": {
  "kernelspec": {
   "display_name": "Python 3",
   "language": "python",
   "name": "python3"
  },
  "language_info": {
   "codemirror_mode": {
    "name": "ipython",
    "version": 3
   },
   "file_extension": ".py",
   "mimetype": "text/x-python",
   "name": "python",
   "nbconvert_exporter": "python",
   "pygments_lexer": "ipython3",
   "version": "3.6.1"
  }
 },
 "nbformat": 4,
 "nbformat_minor": 1
}
