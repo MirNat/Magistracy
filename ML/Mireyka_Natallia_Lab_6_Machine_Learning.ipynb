{
 "cells": [
  {
   "cell_type": "markdown",
   "metadata": {},
   "source": [
    "### Домашнее задание № 6 по курсу \"Машинное обучение\": Выпуклые задачи машинного обучения\n",
    "\n",
    "#### Выполнила Мирейко Наталья"
   ]
  },
  {
   "cell_type": "markdown",
   "metadata": {},
   "source": [
    "**Задание 1.** \n",
    "\n",
    "Доказать, что задача логистической регрессии является выпуклой задачей машинного обучения.\n",
    "\n",
    "**Доказательство.** \n",
    "\n",
    "Для того, чтобы задача была выпуклой задачей машинного обучения необходимо, чтобы множество гипотез было выпукло и функция потерь выпукла на всем множестве объектов. Рассмотрим задачу логистической регрессии в следующем виде:\n",
    "* $H = \\mathbb{R^d}$ - выпуклое множество\n",
    "* $Z = X \\times Y = \\mathbb{R^{d+1}}$ (множество признаков имеет размерность d и множество меток с размерностью 1.)\n",
    "* $\\sigma \\left( x\\right) = \\frac{1}{1+exp(-x)}$\n",
    "* $L(w) = \\frac{1}{m} \\sum\\limits_{i=1}^{m} ln\\left(\\sigma \\left(y_i \\langle w, x_i \\rangle \\right)\\right)\\rightarrow max \\Leftrightarrow \\frac{1}{m} \\sum\\limits_{i=1}^{m} ln\\left(\\frac{1}{\\sigma \\left(y_i \\langle w, x_i \\rangle \\right)}\\right)\\rightarrow min$\n",
    "\n",
    "Рассмотрим функцию $l\\left(w, (x, y)\\right)=ln\\left(\\frac{1}{\\sigma \\left(y \\langle w, x \\rangle \\right)}\\right)=ln\\left(1+e^{-y\\langle w, x \\rangle}\\right)$ и покажем, что она выпуклая для любой фиксированной пары $(x, y) \\in Z$.\n",
    "\n",
    "Так как $f'(x) = \\frac{e^x}{1+e^x} = \\frac{1}{e^{-x}+1}$ монотонно неубывает, функция $f(x) = ln\\left(1+e^x\\right)$ выпукла.\n",
    "Заметим, что $l\\left(w, (x, y)\\right) = f\\left(-y\\langle w, x\\rangle\\right)$.\n",
    "\n",
    "Зафиксируем $(x, y) \\in Z$ и покажем, что $l(w)$ является выпуклой:\n",
    "$$\n",
    "\\alpha l(w_1) + (1-\\alpha)l(w_2) =\n",
    "\\alpha f\\left(-y\\langle w_1, x\\rangle\\right) + (1-\\alpha) f\\left(-y\\langle w_2, x\\rangle\\right) \\ge\n",
    "\\left[f - выпуклая\\right] \\ge\n",
    "f\\left(-\\alpha y\\langle w_1, x\\rangle - (1-\\alpha)y\\langle w_2, x\\rangle\\right) = \n",
    "f\\left(-y\\left(\\langle \\alpha w_1, x\\rangle + \\langle (1-\\alpha)w_2, x\\rangle\\right)\\right) = \n",
    "f\\left(-y\\langle \\alpha w_1 + (1-\\alpha)w_2, x \\rangle\\right) =\n",
    "l\\left(\\alpha w_1 + (1-\\alpha)w_2\\right),\n",
    "$$\n",
    "что и требовалось доказать."
   ]
  },
  {
   "cell_type": "markdown",
   "metadata": {},
   "source": [
    "**Задание 2.** \n",
    "\n",
    "Доказать, что в случае разделимой выборки задача оптимизации функционала логистической регрессии не имеет решения, если не использовать регуляризацию.\n",
    "\n",
    "**Доказательство.** \n",
    "\n",
    "В случае линейной разделимой выборки для задачи логистической регрессии алгоритму без регуляризации на каждом шаге удается найти параметры, которые еще больше минимизируют функцию эмпирического риска. Эти параметры будут лишь сколь угодно приближать функцию к глобальному минимуму, но не достигать его.\n",
    "Доказательство можно провести двумя путями:\n",
    "    1) взять производную и показать, что она не имеет стационарных точек, которые были бы минимумами функции;\n",
    "    2) предположить, что минимум существует, и показать, что есть точка, в которой значение функции ещё меньше, то есть получить противоречие.    \n",
    "    \n",
    "Докажем вторым способом.\n",
    "Из определения разделимости выборки следует, что $\\exists w: \\forall i \\in [m] \\Rightarrow y_i \\langle w, x_i \\rangle > 0; \\space (1)$. Легко заметить, что минимум функции потерь целесообразно искать среди всех таких разделяющих векторов $w$, так как в противном случае (если минимум доставляет вектор, отличный от разделяющего) постановка задачи не корректна с точки зрения логики.\n",
    "\n",
    "Пусть $w^*$ - вектор, минимизирующий функцию $L(w) = \\frac{1}{m} \\sum\\limits_{i=1}^{m} ln\\left(\\frac{1}{\\sigma \\left(y_i \\langle w, x_i \\rangle \\right)}\\right) = \\frac{1}{m} \\sum\\limits_{i=1}^{m} ln\\left(1+e^{-y_i\\langle w, x_i \\rangle}\\right)$ и для этого вектора выполняется $(1)$.\n",
    "Дополнительно рассмотрим вектор $w' = Cw^*$, где $C = const > 1$. Так как $C>1$, для $w'$ также выполняется $(1)$. \n",
    "Оценим разность $L(w^*) - L(w')$:\n",
    "$$\n",
    "L(w^*) - L(w') = \n",
    "\\frac{1}{m} \\sum\\limits_{i=1}^{m} \\left( ln\\left(1+e^{-y_i\\langle w^*, x_i \\rangle}\\right) - ln\\left(1+e^{-Cy_i\\langle w^*, x_i \\rangle}\\right) \\right) =\n",
    "\\frac{1}{m} \\sum\\limits_{i=1}^{m} ln\\left(\\frac{1+e^{-y_i\\langle w^*,x_i \\rangle}}{1+e^{-Cy_i\\langle w^*, x_i \\rangle}}\\right).\n",
    "$$\n",
    "В дроби под логарифмом сравним числитель и знаменатель:\n",
    "$$\n",
    "\\left(1+e^{-y_i\\langle w^*,x_i \\rangle}\\right) - \\left(1+e^{-Cy_i\\langle w^*, x_i \\rangle}\\right) =\n",
    "e^{-y_i\\langle w^*,x_i \\rangle} \\left( 1 - e^{(1-C)y_i\\langle w^*, x_i \\rangle}\\right) =\n",
    "\\left[C>1 \\Rightarrow (1-C)y_i\\langle w^*, x_i \\rangle < 0 \\Rightarrow 1 - e^{(1-C)y_i\\langle w^*, x_i \\rangle} > 0\\right] > 0,\n",
    "$$\n",
    "    таким образом, числитель больше знаменателя, а значит\n",
    "$$\n",
    "L(w^*) - L(w') = \\ldots = \n",
    "\\frac{1}{m}\\sum\\limits_{i=1}^{m} ln\\left(\\frac{1+e^{-y_i\\langle w^*,x_i \\rangle}}{1+e^{-Cy_i\\langle w^*,x_i \\rangle}}\\right)>\n",
    "\\frac{1}{m}\\sum\\limits_{i=1}^{m} ln(1) = 0 \\Rightarrow L(w') < L(w^*),\n",
    "$$\n",
    "    что противоречит предположению о том, что $w^*$ минимизирует $L(w)$.\n",
    "\n",
    "Таким образом, в случае разделимой выборки задача оптимизации функционала логистической регрессии без использования регуляризации не имеет решения."
   ]
  },
  {
   "cell_type": "markdown",
   "metadata": {},
   "source": [
    "**Задание 3.** \n",
    "\n",
    "Доказать, что функция является выпуклой тогда и только тогда, когда её надграфик является выпуклым множеством.\n",
    "\n",
    "**Доказательство.** \n",
    "\n",
    "Рассмотрим функцию $f:X\\rightarrow Y\\subseteq \\mathbb{R}$. Тогда ее надграфиком будет множество $epi(f) = \\left\\{ (x, y) \\in X\\times\\mathbb{R}\\space \\big|\\space y\\ge f(x)\\right\\}$. Докажем исходное утверждение в обе стороны.\n",
    "\n",
    "*Необходимость.* Пусть $f$ выпуклая. Тогда $\\forall x_1, x_2 \\in X \\forall \\alpha \\in [0;1]\\Rightarrow f(\\alpha x_1 + (1-\\alpha)x_2 \\le \\alpha f(x_1) + (1-\\alpha)f(x_2)$. Рассмотрим произвольные пары $(x_1, y_1), (x_2, y_2) \\in epi(f)$ и $\\alpha \\in [0;1]$. Тогда $\\alpha (x_1, y_1) + (1-\\alpha)(x_2, y_2) = (\\alpha x_1 + (1-\\alpha) x_2, \\alpha y_1 + (1-\\alpha) y_2) \\in epi(f)$, так как:\n",
    "1. $X$ - выпуклое (по определению выпуклой функции) $\\Rightarrow \\alpha x_1 + (1-\\alpha) x_2 \\in X$.\n",
    "2. $f$ - выпуклая (+ используем неравенства по определению надграфика функции: y_1 \\ge f(x_1), y_2 \\ge f(x_2)) $\\Rightarrow \\alpha y_1 + (1-\\alpha) y_2 \\ge \\alpha f(x_1) + (1-\\alpha) f(x_2) \\ge f(\\alpha x_1 + (1-\\alpha) x_2)$.\n",
    "Таким образом, из выпуклости фукнции следует выпуклость ее надграфика.\n",
    "\n",
    "*Достаточность.* Пусть надграфик функции $f$ выпуклый. Рассмотрим график функции $f$ $\\Gamma(f) \\subset epi(f)$, определяемый следующим образом: $\\Gamma(f)=\\left\\{ (x, y) \\in X\\times\\mathbb{R}\\space \\big|\\space y = f(x)\\right\\}$. Тогда из выпуклости надграфика для двух произвольных точек графика выполняется следующее утверждение: \n",
    "$$\n",
    "\\forall (x_1, y_1), (x_2, y_2) \\in \\Gamma(f) \\space \\forall \\alpha \\in [0;1] \\Rightarrow\n",
    "\\left[ \\Gamma(f) \\subset epi(f), \\space epi(f) - выпуклое множество, \\space y_i = f(x_i)\\right] \\Rightarrow \\\\\n",
    "\\alpha (x_1, y_1) + (1-\\alpha) (x_2, y_2) = (\\alpha x_1 + (1-\\alpha) x_2, \\alpha f(x_1) + (1-\\alpha) f(x_2)) \\in epi(f) \\Rightarrow \\\\\n",
    "\\alpha f(x_1) + (1-\\alpha) f(x_2) \\ge f(\\alpha x_1 + (1-\\alpha) x_2),\n",
    "$$\n",
    "и f выпукла по определению, что и требовалось доказать."
   ]
  }
 ],
 "metadata": {
  "anaconda-cloud": {},
  "kernelspec": {
   "display_name": "Python 3",
   "language": "python",
   "name": "python3"
  },
  "language_info": {
   "codemirror_mode": {
    "name": "ipython",
    "version": 3
   },
   "file_extension": ".py",
   "mimetype": "text/x-python",
   "name": "python",
   "nbconvert_exporter": "python",
   "pygments_lexer": "ipython3",
   "version": "3.6.1"
  }
 },
 "nbformat": 4,
 "nbformat_minor": 1
}
